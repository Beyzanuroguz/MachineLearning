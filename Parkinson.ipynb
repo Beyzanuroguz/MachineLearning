{
 "cells": [
  {
   "cell_type": "code",
   "execution_count": 42,
   "id": "526ff038",
   "metadata": {},
   "outputs": [],
   "source": [
    "import pandas as pd\n",
    "import numpy as np\n",
    "import matplotlib.pyplot as plt\n",
    "import seaborn as sns\n",
    "from sklearn.model_selection import train_test_split\n",
    "from sklearn.neighbors import KNeighborsClassifier\n",
    "from sklearn.linear_model import LogisticRegression\n",
    "from sklearn.metrics import accuracy_score, confusion_matrix, classification_report\n",
    "from sklearn.preprocessing import StandardScaler, MinMaxScaler\n",
    "from sklearn.naive_bayes import GaussianNB\n",
    "from sklearn.tree import DecisionTreeClassifier\n",
    "from sklearn.svm import SVC\n",
    "from sklearn.neural_network import MLPClassifier\n"
   ]
  },
  {
   "cell_type": "code",
   "execution_count": 43,
   "id": "c3923108",
   "metadata": {},
   "outputs": [],
   "source": [
    "# Veriyi yükleme\n",
    "data = pd.read_csv(\"C:\\\\Users\\\\Beyza\\\\Downloads\\\\Parkison_Dataset.csv\")"
   ]
  },
  {
   "cell_type": "code",
   "execution_count": 44,
   "id": "70f2e81d",
   "metadata": {},
   "outputs": [
    {
     "name": "stdout",
     "output_type": "stream",
     "text": [
      "<class 'pandas.core.frame.DataFrame'>\n",
      "RangeIndex: 756 entries, 0 to 755\n",
      "Columns: 755 entries, id to class\n",
      "dtypes: float64(749), int64(6)\n",
      "memory usage: 4.4 MB\n",
      "None\n"
     ]
    }
   ],
   "source": [
    "print(data.info())#Veri setine ait bilgiler"
   ]
  },
  {
   "cell_type": "code",
   "execution_count": 45,
   "id": "30760c24",
   "metadata": {},
   "outputs": [
    {
     "name": "stdout",
     "output_type": "stream",
     "text": [
      "id                           0\n",
      "gender                       0\n",
      "PPE                          0\n",
      "DFA                          0\n",
      "RPDE                         0\n",
      "                            ..\n",
      "tqwt_kurtosisValue_dec_33    0\n",
      "tqwt_kurtosisValue_dec_34    0\n",
      "tqwt_kurtosisValue_dec_35    0\n",
      "tqwt_kurtosisValue_dec_36    0\n",
      "class                        0\n",
      "Length: 755, dtype: int64\n"
     ]
    }
   ],
   "source": [
    "print(data.isnull().sum()) # Eksik değer kontrolü"
   ]
  },
  {
   "cell_type": "code",
   "execution_count": 46,
   "id": "05a7b1c7",
   "metadata": {},
   "outputs": [
    {
     "name": "stdout",
     "output_type": "stream",
     "text": [
      "   id  gender      PPE      DFA     RPDE  numPulses  numPeriodsPulses  \\\n",
      "0   0       1  0.85247  0.71826  0.57227        240               239   \n",
      "1   0       1  0.76686  0.69481  0.53966        234               233   \n",
      "2   0       1  0.85083  0.67604  0.58982        232               231   \n",
      "3   1       0  0.41121  0.79672  0.59257        178               177   \n",
      "4   1       0  0.32790  0.79782  0.53028        236               235   \n",
      "\n",
      "   meanPeriodPulses  stdDevPeriodPulses  locPctJitter  ...  \\\n",
      "0          0.008064            0.000087       0.00218  ...   \n",
      "1          0.008258            0.000073       0.00195  ...   \n",
      "2          0.008340            0.000060       0.00176  ...   \n",
      "3          0.010858            0.000183       0.00419  ...   \n",
      "4          0.008162            0.002669       0.00535  ...   \n",
      "\n",
      "   tqwt_kurtosisValue_dec_28  tqwt_kurtosisValue_dec_29  \\\n",
      "0                     1.5620                     2.6445   \n",
      "1                     1.5589                     3.6107   \n",
      "2                     1.5643                     2.3308   \n",
      "3                     3.7805                     3.5664   \n",
      "4                     6.1727                     5.8416   \n",
      "\n",
      "   tqwt_kurtosisValue_dec_30  tqwt_kurtosisValue_dec_31  \\\n",
      "0                     3.8686                     4.2105   \n",
      "1                    23.5155                    14.1962   \n",
      "2                     9.4959                    10.7458   \n",
      "3                     5.2558                    14.0403   \n",
      "4                     6.0805                     5.7621   \n",
      "\n",
      "   tqwt_kurtosisValue_dec_32  tqwt_kurtosisValue_dec_33  \\\n",
      "0                     5.1221                     4.4625   \n",
      "1                    11.0261                     9.5082   \n",
      "2                    11.0177                     4.8066   \n",
      "3                     4.2235                     4.6857   \n",
      "4                     7.7817                    11.6891   \n",
      "\n",
      "   tqwt_kurtosisValue_dec_34  tqwt_kurtosisValue_dec_35  \\\n",
      "0                     2.6202                     3.0004   \n",
      "1                     6.5245                     6.3431   \n",
      "2                     2.9199                     3.1495   \n",
      "3                     4.8460                     6.2650   \n",
      "4                     8.2103                     5.0559   \n",
      "\n",
      "   tqwt_kurtosisValue_dec_36  class  \n",
      "0                    18.9405      1  \n",
      "1                    45.1780      1  \n",
      "2                     4.7666      1  \n",
      "3                     4.0603      1  \n",
      "4                     6.1164      1  \n",
      "\n",
      "[5 rows x 755 columns]\n"
     ]
    }
   ],
   "source": [
    "print(data.head())#İlk 5 satırı yazdırma"
   ]
  },
  {
   "cell_type": "code",
   "execution_count": 47,
   "id": "eb2bde41",
   "metadata": {},
   "outputs": [],
   "source": [
    "# Veriyi X (özellikler) ve y (hedef) olarak ayırma\n",
    "X = data.drop('class', axis=1)  # 'class' sütunu hedef değişken olarak kabul ediliyor\n",
    "y = data['class']"
   ]
  },
  {
   "cell_type": "code",
   "execution_count": 73,
   "id": "8931575a",
   "metadata": {},
   "outputs": [],
   "source": [
    "# Veriyi eğitim ve test setlerine bölme\n",
    "X_train, X_test, y_train, y_test = train_test_split(X, y, test_size=0.3, random_state=42)\n"
   ]
  },
  {
   "cell_type": "code",
   "execution_count": 74,
   "id": "005905eb",
   "metadata": {},
   "outputs": [
    {
     "data": {
      "text/html": [
       "<div>\n",
       "<style scoped>\n",
       "    .dataframe tbody tr th:only-of-type {\n",
       "        vertical-align: middle;\n",
       "    }\n",
       "\n",
       "    .dataframe tbody tr th {\n",
       "        vertical-align: top;\n",
       "    }\n",
       "\n",
       "    .dataframe thead th {\n",
       "        text-align: right;\n",
       "    }\n",
       "</style>\n",
       "<table border=\"1\" class=\"dataframe\">\n",
       "  <thead>\n",
       "    <tr style=\"text-align: right;\">\n",
       "      <th></th>\n",
       "      <th>id</th>\n",
       "      <th>gender</th>\n",
       "      <th>PPE</th>\n",
       "      <th>DFA</th>\n",
       "      <th>RPDE</th>\n",
       "      <th>numPulses</th>\n",
       "      <th>numPeriodsPulses</th>\n",
       "      <th>meanPeriodPulses</th>\n",
       "      <th>stdDevPeriodPulses</th>\n",
       "      <th>locPctJitter</th>\n",
       "      <th>...</th>\n",
       "      <th>tqwt_kurtosisValue_dec_27</th>\n",
       "      <th>tqwt_kurtosisValue_dec_28</th>\n",
       "      <th>tqwt_kurtosisValue_dec_29</th>\n",
       "      <th>tqwt_kurtosisValue_dec_30</th>\n",
       "      <th>tqwt_kurtosisValue_dec_31</th>\n",
       "      <th>tqwt_kurtosisValue_dec_32</th>\n",
       "      <th>tqwt_kurtosisValue_dec_33</th>\n",
       "      <th>tqwt_kurtosisValue_dec_34</th>\n",
       "      <th>tqwt_kurtosisValue_dec_35</th>\n",
       "      <th>tqwt_kurtosisValue_dec_36</th>\n",
       "    </tr>\n",
       "  </thead>\n",
       "  <tbody>\n",
       "    <tr>\n",
       "      <th>182</th>\n",
       "      <td>60</td>\n",
       "      <td>0</td>\n",
       "      <td>0.47012</td>\n",
       "      <td>0.68923</td>\n",
       "      <td>0.56710</td>\n",
       "      <td>335</td>\n",
       "      <td>334</td>\n",
       "      <td>0.005758</td>\n",
       "      <td>0.001560</td>\n",
       "      <td>0.00351</td>\n",
       "      <td>...</td>\n",
       "      <td>8.2985</td>\n",
       "      <td>12.0478</td>\n",
       "      <td>7.6149</td>\n",
       "      <td>2.6906</td>\n",
       "      <td>2.4633</td>\n",
       "      <td>2.7684</td>\n",
       "      <td>18.1463</td>\n",
       "      <td>21.1227</td>\n",
       "      <td>25.0390</td>\n",
       "      <td>10.1173</td>\n",
       "    </tr>\n",
       "    <tr>\n",
       "      <th>575</th>\n",
       "      <td>191</td>\n",
       "      <td>1</td>\n",
       "      <td>0.81741</td>\n",
       "      <td>0.63870</td>\n",
       "      <td>0.54005</td>\n",
       "      <td>249</td>\n",
       "      <td>248</td>\n",
       "      <td>0.007776</td>\n",
       "      <td>0.000053</td>\n",
       "      <td>0.00121</td>\n",
       "      <td>...</td>\n",
       "      <td>1.5844</td>\n",
       "      <td>1.5883</td>\n",
       "      <td>3.0578</td>\n",
       "      <td>2.6221</td>\n",
       "      <td>2.9641</td>\n",
       "      <td>3.1141</td>\n",
       "      <td>2.9502</td>\n",
       "      <td>4.4095</td>\n",
       "      <td>3.3050</td>\n",
       "      <td>11.6049</td>\n",
       "    </tr>\n",
       "    <tr>\n",
       "      <th>399</th>\n",
       "      <td>133</td>\n",
       "      <td>0</td>\n",
       "      <td>0.84591</td>\n",
       "      <td>0.60866</td>\n",
       "      <td>0.59179</td>\n",
       "      <td>472</td>\n",
       "      <td>471</td>\n",
       "      <td>0.004091</td>\n",
       "      <td>0.000234</td>\n",
       "      <td>0.00263</td>\n",
       "      <td>...</td>\n",
       "      <td>76.6302</td>\n",
       "      <td>35.0462</td>\n",
       "      <td>62.7041</td>\n",
       "      <td>50.5068</td>\n",
       "      <td>28.7728</td>\n",
       "      <td>23.4105</td>\n",
       "      <td>30.2428</td>\n",
       "      <td>44.5080</td>\n",
       "      <td>41.9666</td>\n",
       "      <td>79.8961</td>\n",
       "    </tr>\n",
       "    <tr>\n",
       "      <th>583</th>\n",
       "      <td>194</td>\n",
       "      <td>0</td>\n",
       "      <td>0.86410</td>\n",
       "      <td>0.72404</td>\n",
       "      <td>0.21847</td>\n",
       "      <td>520</td>\n",
       "      <td>519</td>\n",
       "      <td>0.003713</td>\n",
       "      <td>0.000022</td>\n",
       "      <td>0.00048</td>\n",
       "      <td>...</td>\n",
       "      <td>69.8380</td>\n",
       "      <td>28.8705</td>\n",
       "      <td>27.0722</td>\n",
       "      <td>16.8942</td>\n",
       "      <td>6.9145</td>\n",
       "      <td>7.9410</td>\n",
       "      <td>9.1942</td>\n",
       "      <td>6.2766</td>\n",
       "      <td>5.1194</td>\n",
       "      <td>6.1003</td>\n",
       "    </tr>\n",
       "    <tr>\n",
       "      <th>223</th>\n",
       "      <td>74</td>\n",
       "      <td>1</td>\n",
       "      <td>0.47019</td>\n",
       "      <td>0.75495</td>\n",
       "      <td>0.63768</td>\n",
       "      <td>227</td>\n",
       "      <td>226</td>\n",
       "      <td>0.008497</td>\n",
       "      <td>0.002735</td>\n",
       "      <td>0.00835</td>\n",
       "      <td>...</td>\n",
       "      <td>184.0917</td>\n",
       "      <td>115.2017</td>\n",
       "      <td>76.3111</td>\n",
       "      <td>10.3347</td>\n",
       "      <td>3.3531</td>\n",
       "      <td>3.5236</td>\n",
       "      <td>16.8188</td>\n",
       "      <td>30.3167</td>\n",
       "      <td>27.3304</td>\n",
       "      <td>14.9176</td>\n",
       "    </tr>\n",
       "    <tr>\n",
       "      <th>...</th>\n",
       "      <td>...</td>\n",
       "      <td>...</td>\n",
       "      <td>...</td>\n",
       "      <td>...</td>\n",
       "      <td>...</td>\n",
       "      <td>...</td>\n",
       "      <td>...</td>\n",
       "      <td>...</td>\n",
       "      <td>...</td>\n",
       "      <td>...</td>\n",
       "      <td>...</td>\n",
       "      <td>...</td>\n",
       "      <td>...</td>\n",
       "      <td>...</td>\n",
       "      <td>...</td>\n",
       "      <td>...</td>\n",
       "      <td>...</td>\n",
       "      <td>...</td>\n",
       "      <td>...</td>\n",
       "      <td>...</td>\n",
       "      <td>...</td>\n",
       "    </tr>\n",
       "    <tr>\n",
       "      <th>71</th>\n",
       "      <td>23</td>\n",
       "      <td>1</td>\n",
       "      <td>0.31431</td>\n",
       "      <td>0.77186</td>\n",
       "      <td>0.62721</td>\n",
       "      <td>231</td>\n",
       "      <td>230</td>\n",
       "      <td>0.008341</td>\n",
       "      <td>0.000250</td>\n",
       "      <td>0.00327</td>\n",
       "      <td>...</td>\n",
       "      <td>3.4251</td>\n",
       "      <td>4.7490</td>\n",
       "      <td>7.6582</td>\n",
       "      <td>12.3930</td>\n",
       "      <td>3.1410</td>\n",
       "      <td>2.9371</td>\n",
       "      <td>4.4207</td>\n",
       "      <td>6.4558</td>\n",
       "      <td>4.9663</td>\n",
       "      <td>5.0628</td>\n",
       "    </tr>\n",
       "    <tr>\n",
       "      <th>106</th>\n",
       "      <td>35</td>\n",
       "      <td>0</td>\n",
       "      <td>0.82435</td>\n",
       "      <td>0.67512</td>\n",
       "      <td>0.37135</td>\n",
       "      <td>415</td>\n",
       "      <td>414</td>\n",
       "      <td>0.004644</td>\n",
       "      <td>0.000030</td>\n",
       "      <td>0.00076</td>\n",
       "      <td>...</td>\n",
       "      <td>6.3202</td>\n",
       "      <td>5.2622</td>\n",
       "      <td>3.3257</td>\n",
       "      <td>2.6209</td>\n",
       "      <td>2.5962</td>\n",
       "      <td>2.9097</td>\n",
       "      <td>3.4120</td>\n",
       "      <td>2.6230</td>\n",
       "      <td>2.7187</td>\n",
       "      <td>3.0654</td>\n",
       "    </tr>\n",
       "    <tr>\n",
       "      <th>270</th>\n",
       "      <td>90</td>\n",
       "      <td>0</td>\n",
       "      <td>0.50598</td>\n",
       "      <td>0.64620</td>\n",
       "      <td>0.69831</td>\n",
       "      <td>168</td>\n",
       "      <td>167</td>\n",
       "      <td>0.011474</td>\n",
       "      <td>0.000296</td>\n",
       "      <td>0.00729</td>\n",
       "      <td>...</td>\n",
       "      <td>2.1926</td>\n",
       "      <td>6.1377</td>\n",
       "      <td>6.1270</td>\n",
       "      <td>4.7823</td>\n",
       "      <td>4.8881</td>\n",
       "      <td>2.5868</td>\n",
       "      <td>2.9627</td>\n",
       "      <td>3.8031</td>\n",
       "      <td>3.7451</td>\n",
       "      <td>2.9601</td>\n",
       "    </tr>\n",
       "    <tr>\n",
       "      <th>435</th>\n",
       "      <td>145</td>\n",
       "      <td>1</td>\n",
       "      <td>0.82759</td>\n",
       "      <td>0.63558</td>\n",
       "      <td>0.37521</td>\n",
       "      <td>344</td>\n",
       "      <td>343</td>\n",
       "      <td>0.005612</td>\n",
       "      <td>0.000053</td>\n",
       "      <td>0.00121</td>\n",
       "      <td>...</td>\n",
       "      <td>57.3059</td>\n",
       "      <td>160.6611</td>\n",
       "      <td>130.0455</td>\n",
       "      <td>100.7989</td>\n",
       "      <td>56.3096</td>\n",
       "      <td>32.9181</td>\n",
       "      <td>39.1589</td>\n",
       "      <td>46.2313</td>\n",
       "      <td>38.2874</td>\n",
       "      <td>42.7546</td>\n",
       "    </tr>\n",
       "    <tr>\n",
       "      <th>102</th>\n",
       "      <td>34</td>\n",
       "      <td>0</td>\n",
       "      <td>0.80056</td>\n",
       "      <td>0.73215</td>\n",
       "      <td>0.48029</td>\n",
       "      <td>380</td>\n",
       "      <td>379</td>\n",
       "      <td>0.005073</td>\n",
       "      <td>0.000059</td>\n",
       "      <td>0.00164</td>\n",
       "      <td>...</td>\n",
       "      <td>71.6880</td>\n",
       "      <td>26.0369</td>\n",
       "      <td>27.6332</td>\n",
       "      <td>4.1361</td>\n",
       "      <td>2.5648</td>\n",
       "      <td>3.1014</td>\n",
       "      <td>4.5010</td>\n",
       "      <td>10.0738</td>\n",
       "      <td>13.0857</td>\n",
       "      <td>3.8367</td>\n",
       "    </tr>\n",
       "  </tbody>\n",
       "</table>\n",
       "<p>529 rows × 754 columns</p>\n",
       "</div>"
      ],
      "text/plain": [
       "      id  gender      PPE      DFA     RPDE  numPulses  numPeriodsPulses  \\\n",
       "182   60       0  0.47012  0.68923  0.56710        335               334   \n",
       "575  191       1  0.81741  0.63870  0.54005        249               248   \n",
       "399  133       0  0.84591  0.60866  0.59179        472               471   \n",
       "583  194       0  0.86410  0.72404  0.21847        520               519   \n",
       "223   74       1  0.47019  0.75495  0.63768        227               226   \n",
       "..   ...     ...      ...      ...      ...        ...               ...   \n",
       "71    23       1  0.31431  0.77186  0.62721        231               230   \n",
       "106   35       0  0.82435  0.67512  0.37135        415               414   \n",
       "270   90       0  0.50598  0.64620  0.69831        168               167   \n",
       "435  145       1  0.82759  0.63558  0.37521        344               343   \n",
       "102   34       0  0.80056  0.73215  0.48029        380               379   \n",
       "\n",
       "     meanPeriodPulses  stdDevPeriodPulses  locPctJitter  ...  \\\n",
       "182          0.005758            0.001560       0.00351  ...   \n",
       "575          0.007776            0.000053       0.00121  ...   \n",
       "399          0.004091            0.000234       0.00263  ...   \n",
       "583          0.003713            0.000022       0.00048  ...   \n",
       "223          0.008497            0.002735       0.00835  ...   \n",
       "..                ...                 ...           ...  ...   \n",
       "71           0.008341            0.000250       0.00327  ...   \n",
       "106          0.004644            0.000030       0.00076  ...   \n",
       "270          0.011474            0.000296       0.00729  ...   \n",
       "435          0.005612            0.000053       0.00121  ...   \n",
       "102          0.005073            0.000059       0.00164  ...   \n",
       "\n",
       "     tqwt_kurtosisValue_dec_27  tqwt_kurtosisValue_dec_28  \\\n",
       "182                     8.2985                    12.0478   \n",
       "575                     1.5844                     1.5883   \n",
       "399                    76.6302                    35.0462   \n",
       "583                    69.8380                    28.8705   \n",
       "223                   184.0917                   115.2017   \n",
       "..                         ...                        ...   \n",
       "71                      3.4251                     4.7490   \n",
       "106                     6.3202                     5.2622   \n",
       "270                     2.1926                     6.1377   \n",
       "435                    57.3059                   160.6611   \n",
       "102                    71.6880                    26.0369   \n",
       "\n",
       "     tqwt_kurtosisValue_dec_29  tqwt_kurtosisValue_dec_30  \\\n",
       "182                     7.6149                     2.6906   \n",
       "575                     3.0578                     2.6221   \n",
       "399                    62.7041                    50.5068   \n",
       "583                    27.0722                    16.8942   \n",
       "223                    76.3111                    10.3347   \n",
       "..                         ...                        ...   \n",
       "71                      7.6582                    12.3930   \n",
       "106                     3.3257                     2.6209   \n",
       "270                     6.1270                     4.7823   \n",
       "435                   130.0455                   100.7989   \n",
       "102                    27.6332                     4.1361   \n",
       "\n",
       "     tqwt_kurtosisValue_dec_31  tqwt_kurtosisValue_dec_32  \\\n",
       "182                     2.4633                     2.7684   \n",
       "575                     2.9641                     3.1141   \n",
       "399                    28.7728                    23.4105   \n",
       "583                     6.9145                     7.9410   \n",
       "223                     3.3531                     3.5236   \n",
       "..                         ...                        ...   \n",
       "71                      3.1410                     2.9371   \n",
       "106                     2.5962                     2.9097   \n",
       "270                     4.8881                     2.5868   \n",
       "435                    56.3096                    32.9181   \n",
       "102                     2.5648                     3.1014   \n",
       "\n",
       "     tqwt_kurtosisValue_dec_33  tqwt_kurtosisValue_dec_34  \\\n",
       "182                    18.1463                    21.1227   \n",
       "575                     2.9502                     4.4095   \n",
       "399                    30.2428                    44.5080   \n",
       "583                     9.1942                     6.2766   \n",
       "223                    16.8188                    30.3167   \n",
       "..                         ...                        ...   \n",
       "71                      4.4207                     6.4558   \n",
       "106                     3.4120                     2.6230   \n",
       "270                     2.9627                     3.8031   \n",
       "435                    39.1589                    46.2313   \n",
       "102                     4.5010                    10.0738   \n",
       "\n",
       "     tqwt_kurtosisValue_dec_35  tqwt_kurtosisValue_dec_36  \n",
       "182                    25.0390                    10.1173  \n",
       "575                     3.3050                    11.6049  \n",
       "399                    41.9666                    79.8961  \n",
       "583                     5.1194                     6.1003  \n",
       "223                    27.3304                    14.9176  \n",
       "..                         ...                        ...  \n",
       "71                      4.9663                     5.0628  \n",
       "106                     2.7187                     3.0654  \n",
       "270                     3.7451                     2.9601  \n",
       "435                    38.2874                    42.7546  \n",
       "102                    13.0857                     3.8367  \n",
       "\n",
       "[529 rows x 754 columns]"
      ]
     },
     "execution_count": 74,
     "metadata": {},
     "output_type": "execute_result"
    }
   ],
   "source": [
    "X_train"
   ]
  },
  {
   "cell_type": "code",
   "execution_count": 75,
   "id": "c0a6479a",
   "metadata": {},
   "outputs": [
    {
     "data": {
      "text/plain": [
       "408    0\n",
       "97     1\n",
       "424    1\n",
       "584    0\n",
       "603    1\n",
       "      ..\n",
       "595    0\n",
       "239    1\n",
       "250    0\n",
       "538    1\n",
       "494    1\n",
       "Name: class, Length: 227, dtype: int64"
      ]
     },
     "execution_count": 75,
     "metadata": {},
     "output_type": "execute_result"
    }
   ],
   "source": [
    "y_test"
   ]
  },
  {
   "cell_type": "code",
   "execution_count": 76,
   "id": "4db80a04",
   "metadata": {},
   "outputs": [],
   "source": [
    "# Özellikleri ölçeklendirme\n",
    "\n",
    "scaler = StandardScaler()  # StandardScaler nesnesi oluşturma\n",
    "X_train_scaled = scaler.fit_transform(X_train)  # Eğitim verisini ölçeklendirme\n",
    "X_test_scaled = scaler.transform(X_test)  # Test verisini ölçeklendirme (fit_transform değil, sadece transform)"
   ]
  },
  {
   "cell_type": "markdown",
   "id": "9a850845",
   "metadata": {},
   "source": [
    "#    KNN modeli oluşturma ve  eğitme\n"
   ]
  },
  {
   "cell_type": "code",
   "execution_count": 77,
   "id": "cecdf07c",
   "metadata": {
    "scrolled": true
   },
   "outputs": [
    {
     "data": {
      "text/plain": [
       "KNeighborsClassifier()"
      ]
     },
     "execution_count": 77,
     "metadata": {},
     "output_type": "execute_result"
    }
   ],
   "source": [
    "# KNN modeli oluşturma ve eğitme\n",
    "knn_model = KNeighborsClassifier(n_neighbors=5)  # KNN modeli oluşturma (k=5)\n",
    "knn_model.fit(X_train_scaled, y_train)  # Modeli eğitim verisiyle eğitme\n"
   ]
  },
  {
   "cell_type": "code",
   "execution_count": 78,
   "id": "8ec7d815",
   "metadata": {},
   "outputs": [],
   "source": [
    " # Model ile test verisini tahmin etme\n",
    "y_pred_knn = knn_model.predict(X_test_scaled)"
   ]
  },
  {
   "cell_type": "code",
   "execution_count": 79,
   "id": "000145fb",
   "metadata": {},
   "outputs": [
    {
     "name": "stdout",
     "output_type": "stream",
     "text": [
      "KNN Model Accuracy: 0.8722466960352423\n"
     ]
    }
   ],
   "source": [
    "# Modelin doğruluğunu hesaplama\n",
    "accuracy_knn = accuracy_score(y_test, y_pred_knn)\n",
    "print(f\"KNN Model Accuracy: {accuracy_knn}\")\n"
   ]
  },
  {
   "cell_type": "code",
   "execution_count": 80,
   "id": "49932194",
   "metadata": {},
   "outputs": [],
   "source": [
    "cm_knn = confusion_matrix(y_test, y_pred_knn)  # Confusion matrix hesaplama\n",
    "class_report_knn = classification_report(y_test, y_pred_knn)  # Sınıflandırma raporu oluşturma"
   ]
  },
  {
   "cell_type": "code",
   "execution_count": 81,
   "id": "982a47c8",
   "metadata": {
    "scrolled": true
   },
   "outputs": [
    {
     "name": "stdout",
     "output_type": "stream",
     "text": [
      "KNN Model Confusion Matrix:\n",
      "[[ 33  28]\n",
      " [  1 165]]\n",
      "\n",
      "KNN Model Classification Report:\n",
      "              precision    recall  f1-score   support\n",
      "\n",
      "           0       0.97      0.54      0.69        61\n",
      "           1       0.85      0.99      0.92       166\n",
      "\n",
      "    accuracy                           0.87       227\n",
      "   macro avg       0.91      0.77      0.81       227\n",
      "weighted avg       0.89      0.87      0.86       227\n",
      "\n"
     ]
    }
   ],
   "source": [
    "print(\"KNN Model Confusion Matrix:\")\n",
    "print(cm_knn)\n",
    "print(\"\\nKNN Model Classification Report:\")\n",
    "print(class_report_knn)"
   ]
  },
  {
   "cell_type": "markdown",
   "id": "c49914bd",
   "metadata": {},
   "source": [
    "#    Logistic Regression Modeli:"
   ]
  },
  {
   "cell_type": "code",
   "execution_count": 111,
   "id": "9a97d05c",
   "metadata": {},
   "outputs": [
    {
     "data": {
      "text/plain": [
       "LogisticRegression(max_iter=1000)"
      ]
     },
     "execution_count": 111,
     "metadata": {},
     "output_type": "execute_result"
    }
   ],
   "source": [
    "log_model = LogisticRegression(max_iter=1000)  # Lojistik regresyon modeli oluşturma (maksimum iterasyon 1000)\n",
    "log_model.fit(X_train_scaled, y_train)  # Modeli eğitim verisiyle eğitme"
   ]
  },
  {
   "cell_type": "code",
   "execution_count": 112,
   "id": "61fe6b7e",
   "metadata": {},
   "outputs": [],
   "source": [
    "y_pred_log = log_model.predict(X_test_scaled)  # Model ile test verisini tahmin etme"
   ]
  },
  {
   "cell_type": "code",
   "execution_count": 113,
   "id": "e84c0863",
   "metadata": {},
   "outputs": [
    {
     "name": "stdout",
     "output_type": "stream",
     "text": [
      "Logistic Regression Accuracy: 0.8370044052863436\n"
     ]
    }
   ],
   "source": [
    "accuracy_log = accuracy_score(y_test, y_pred_log)  # Modelin doğruluğunu hesaplama\n",
    "print(f\"Logistic Regression Accuracy: {accuracy_log}\")"
   ]
  },
  {
   "cell_type": "code",
   "execution_count": 114,
   "id": "f4a0c90b",
   "metadata": {},
   "outputs": [],
   "source": [
    "cm_log = confusion_matrix(y_test, y_pred_log)  # Confusion matrix hesaplama\n",
    "class_report_log = classification_report(y_test, y_pred_log)  # Sınıflandırma raporu oluşturma"
   ]
  },
  {
   "cell_type": "code",
   "execution_count": 115,
   "id": "1ce001e4",
   "metadata": {},
   "outputs": [
    {
     "name": "stdout",
     "output_type": "stream",
     "text": [
      "Logistic Regression Model Confusion Matrix:\n",
      "[[ 36  25]\n",
      " [ 12 154]]\n",
      "\n",
      "Logistic Regression Model Classification Report:\n",
      "              precision    recall  f1-score   support\n",
      "\n",
      "           0       0.75      0.59      0.66        61\n",
      "           1       0.86      0.93      0.89       166\n",
      "\n",
      "    accuracy                           0.84       227\n",
      "   macro avg       0.81      0.76      0.78       227\n",
      "weighted avg       0.83      0.84      0.83       227\n",
      "\n"
     ]
    }
   ],
   "source": [
    "print(\"Logistic Regression Model Confusion Matrix:\")\n",
    "print(cm_log)\n",
    "print(\"\\nLogistic Regression Model Classification Report:\")\n",
    "print(class_report_log)"
   ]
  },
  {
   "cell_type": "markdown",
   "id": "d377a44a",
   "metadata": {},
   "source": [
    "#    Destek Vektör Makineleri (SVM) Modeli:"
   ]
  },
  {
   "cell_type": "code",
   "execution_count": 116,
   "id": "86a3ec3f",
   "metadata": {},
   "outputs": [
    {
     "data": {
      "text/plain": [
       "SVC()"
      ]
     },
     "execution_count": 116,
     "metadata": {},
     "output_type": "execute_result"
    }
   ],
   "source": [
    "#modeli oluşturma ve eğitme\n",
    "svm_model = SVC()  # SVM modeli oluşturma\n",
    "svm_model.fit(X_train_scaled, y_train)  # Modeli eğitim verisiyle eğitme"
   ]
  },
  {
   "cell_type": "code",
   "execution_count": 117,
   "id": "0aefa993",
   "metadata": {},
   "outputs": [],
   "source": [
    " # Model ile test verisini tahmin etme\n",
    "y_pred_svm = svm_model.predict(X_test_scaled)"
   ]
  },
  {
   "cell_type": "code",
   "execution_count": 118,
   "id": "90b93ba5",
   "metadata": {},
   "outputs": [
    {
     "name": "stdout",
     "output_type": "stream",
     "text": [
      "SVM Model Accuracy: 0.8370044052863436\n"
     ]
    }
   ],
   "source": [
    "#doğruluk hesaplama\n",
    "accuracy_svm = accuracy_score(y_test, y_pred_svm)\n",
    "print(f\"SVM Model Accuracy: {accuracy_svm}\")"
   ]
  },
  {
   "cell_type": "code",
   "execution_count": 119,
   "id": "56db1675",
   "metadata": {},
   "outputs": [],
   "source": [
    "  # Confusion matrix hesaplama\n",
    "cm_svm = confusion_matrix(y_test, y_pred_svm)\n",
    "class_report_svm = classification_report(y_test, y_pred_svm)"
   ]
  },
  {
   "cell_type": "code",
   "execution_count": 120,
   "id": "21916a00",
   "metadata": {},
   "outputs": [
    {
     "name": "stdout",
     "output_type": "stream",
     "text": [
      "SVM  Confusion Matrix:\n",
      "[[ 25  36]\n",
      " [  1 165]]\n",
      "\n",
      "SVM  Classification Report:\n",
      "              precision    recall  f1-score   support\n",
      "\n",
      "           0       0.96      0.41      0.57        61\n",
      "           1       0.82      0.99      0.90       166\n",
      "\n",
      "    accuracy                           0.84       227\n",
      "   macro avg       0.89      0.70      0.74       227\n",
      "weighted avg       0.86      0.84      0.81       227\n",
      "\n"
     ]
    }
   ],
   "source": [
    "print(\"SVM  Confusion Matrix:\")\n",
    "print(cm_svm)\n",
    "print(\"\\nSVM  Classification Report:\")\n",
    "print(class_report_svm)"
   ]
  },
  {
   "cell_type": "markdown",
   "id": "77c25f18",
   "metadata": {},
   "source": [
    "#    Decision Tree"
   ]
  },
  {
   "cell_type": "code",
   "execution_count": 121,
   "id": "2b2c4ab5",
   "metadata": {},
   "outputs": [
    {
     "data": {
      "text/plain": [
       "DecisionTreeClassifier()"
      ]
     },
     "execution_count": 121,
     "metadata": {},
     "output_type": "execute_result"
    }
   ],
   "source": [
    "dt_ = DecisionTreeClassifier()  # Karar ağacı modeli oluşturma\n",
    "dt_.fit(X_train_scaled, y_train)  # Modeli eğitim verisiyle eğitme"
   ]
  },
  {
   "cell_type": "code",
   "execution_count": 122,
   "id": "82d6dc13",
   "metadata": {},
   "outputs": [],
   "source": [
    "y_pred_dt = dt_.predict(X_test_scaled)  # Model ile test verisini tahmin etme"
   ]
  },
  {
   "cell_type": "code",
   "execution_count": 123,
   "id": "84e62b6f",
   "metadata": {},
   "outputs": [
    {
     "name": "stdout",
     "output_type": "stream",
     "text": [
      "Decision Tree Model Accuracy: 0.775330396475771\n"
     ]
    }
   ],
   "source": [
    "accuracy_dt = accuracy_score(y_test, y_pred_dt)  # Modelin doğruluğunu hesaplama\n",
    "print(f\"Decision Tree Model Accuracy: {accuracy_dt}\")\n"
   ]
  },
  {
   "cell_type": "code",
   "execution_count": 124,
   "id": "a5d1dd87",
   "metadata": {},
   "outputs": [],
   "source": [
    "cm_dt = confusion_matrix(y_test, y_pred_dt)  # Confusion matrix hesaplama\n",
    "class_report_dt = classification_report(y_test, y_pred_dt)  # Sınıflandırma raporu oluşturma"
   ]
  },
  {
   "cell_type": "code",
   "execution_count": 125,
   "id": "ea0c27f6",
   "metadata": {},
   "outputs": [
    {
     "name": "stdout",
     "output_type": "stream",
     "text": [
      "Decision Tree Model Confusion Matrix (cm_dt):\n",
      "[[ 35  26]\n",
      " [ 25 141]]\n",
      "\n",
      "Decision Tree Model Classification Report:\n",
      "              precision    recall  f1-score   support\n",
      "\n",
      "           0       0.58      0.57      0.58        61\n",
      "           1       0.84      0.85      0.85       166\n",
      "\n",
      "    accuracy                           0.78       227\n",
      "   macro avg       0.71      0.71      0.71       227\n",
      "weighted avg       0.77      0.78      0.77       227\n",
      "\n"
     ]
    }
   ],
   "source": [
    "print(\"Decision Tree Model Confusion Matrix (cm_dt):\")\n",
    "print(cm_dt)\n",
    "print(\"\\nDecision Tree Model Classification Report:\")\n",
    "print(class_report_dt)"
   ]
  },
  {
   "cell_type": "markdown",
   "id": "ad49f700",
   "metadata": {},
   "source": [
    "#    Yapay Sinir Ağı (Neural Network) Modeli"
   ]
  },
  {
   "cell_type": "code",
   "execution_count": 97,
   "id": "fadb85f1",
   "metadata": {},
   "outputs": [
    {
     "data": {
      "text/plain": [
       "MLPClassifier(max_iter=1000)"
      ]
     },
     "execution_count": 97,
     "metadata": {},
     "output_type": "execute_result"
    }
   ],
   "source": [
    "nn_model = MLPClassifier(max_iter=1000)  # Yapay sinir ağı modeli oluşturma (maksimum iterasyon 1000)\n",
    "nn_model.fit(X_train_scaled, y_train)  # Modeli eğitim verisiyle eğitme"
   ]
  },
  {
   "cell_type": "code",
   "execution_count": 98,
   "id": "b79ea0fa",
   "metadata": {},
   "outputs": [],
   "source": [
    "y_pred_nn = nn_model.predict(X_test_scaled)  # Model ile test verisini tahmin etme"
   ]
  },
  {
   "cell_type": "code",
   "execution_count": 99,
   "id": "620712a1",
   "metadata": {},
   "outputs": [
    {
     "name": "stdout",
     "output_type": "stream",
     "text": [
      "Neural Network Model Accuracy: 0.8590308370044053\n"
     ]
    }
   ],
   "source": [
    "accuracy_nn = accuracy_score(y_test, y_pred_nn)  # Modelin doğruluğunu hesaplama\n",
    "\n",
    "print(f\"Neural Network Model Accuracy: {accuracy_nn}\")"
   ]
  },
  {
   "cell_type": "code",
   "execution_count": 100,
   "id": "2a5c6fbf",
   "metadata": {},
   "outputs": [],
   "source": [
    "cm_nn = confusion_matrix(y_test, y_pred_nn)  # Confusion matrix hesaplama\n",
    "class_report_nn = classification_report(y_test, y_pred_nn)  # Sınıflandırma raporu oluşturma"
   ]
  },
  {
   "cell_type": "code",
   "execution_count": 101,
   "id": "3c5da063",
   "metadata": {},
   "outputs": [
    {
     "name": "stdout",
     "output_type": "stream",
     "text": [
      "Neural Network Confusion Matrix:\n",
      "[[ 37  24]\n",
      " [  8 158]]\n",
      "\n",
      "Neural Network Classification Report:\n",
      "              precision    recall  f1-score   support\n",
      "\n",
      "           0       0.82      0.61      0.70        61\n",
      "           1       0.87      0.95      0.91       166\n",
      "\n",
      "    accuracy                           0.86       227\n",
      "   macro avg       0.85      0.78      0.80       227\n",
      "weighted avg       0.86      0.86      0.85       227\n",
      "\n"
     ]
    }
   ],
   "source": [
    "print(\"Neural Network Confusion Matrix:\")\n",
    "print(cm_nn)\n",
    "print(\"\\nNeural Network Classification Report:\")\n",
    "print(class_report_nn)"
   ]
  },
  {
   "cell_type": "markdown",
   "id": "5ed7e7d7",
   "metadata": {},
   "source": [
    "#     Naive Bayes Modeli"
   ]
  },
  {
   "cell_type": "code",
   "execution_count": 102,
   "id": "15cdfa79",
   "metadata": {},
   "outputs": [
    {
     "data": {
      "text/plain": [
       "GaussianNB()"
      ]
     },
     "execution_count": 102,
     "metadata": {},
     "output_type": "execute_result"
    }
   ],
   "source": [
    "nb_model = GaussianNB()  # Naive Bayes modeli oluşturma\n",
    "nb_model.fit(X_train_scaled, y_train)  # Modeli eğitim verisiyle eğitme"
   ]
  },
  {
   "cell_type": "code",
   "execution_count": 103,
   "id": "c9f218a4",
   "metadata": {},
   "outputs": [],
   "source": [
    "y_pred_nb = nb_model.predict(X_test_scaled)  # Model ile test verisini tahmin etme"
   ]
  },
  {
   "cell_type": "code",
   "execution_count": 104,
   "id": "e433802f",
   "metadata": {},
   "outputs": [
    {
     "name": "stdout",
     "output_type": "stream",
     "text": [
      "Naive Bayes Model Accuracy: 0.7665198237885462\n"
     ]
    }
   ],
   "source": [
    "accuracy_nb = accuracy_score(y_test, y_pred_nb)  # Modelin doğruluğunu hesaplama\n",
    "print(f\"Naive Bayes Model Accuracy: {accuracy_nb}\")\n"
   ]
  },
  {
   "cell_type": "code",
   "execution_count": 105,
   "id": "e42a6dc7",
   "metadata": {},
   "outputs": [],
   "source": [
    "cm_nb = confusion_matrix(y_test, y_pred_nb)  # Confusion matrix hesaplama\n",
    "class_report_nb = classification_report(y_test, y_pred_nb)  # Sınıflandırma raporu oluşturma"
   ]
  },
  {
   "cell_type": "code",
   "execution_count": 106,
   "id": "b1f40a28",
   "metadata": {},
   "outputs": [
    {
     "name": "stdout",
     "output_type": "stream",
     "text": [
      "Naive Bayes Model Confusion Matrix:\n",
      "[[ 40  21]\n",
      " [ 32 134]]\n",
      "\n",
      "Naive Bayes Model Classification Report:\n",
      "              precision    recall  f1-score   support\n",
      "\n",
      "           0       0.56      0.66      0.60        61\n",
      "           1       0.86      0.81      0.83       166\n",
      "\n",
      "    accuracy                           0.77       227\n",
      "   macro avg       0.71      0.73      0.72       227\n",
      "weighted avg       0.78      0.77      0.77       227\n",
      "\n"
     ]
    }
   ],
   "source": [
    "print(\"Naive Bayes Model Confusion Matrix:\")\n",
    "print(cm_nb)\n",
    "print(\"\\nNaive Bayes Model Classification Report:\")\n",
    "print(class_report_nb)"
   ]
  },
  {
   "cell_type": "markdown",
   "id": "f4230664",
   "metadata": {},
   "source": [
    "# Modellerin Doğruluk Değerlerinin Karşılaştırılması\n",
    "Her modelin doğruluk değerlerini karşılaştırarak bir grafik oluşturuyoruz:"
   ]
  },
  {
   "cell_type": "code",
   "execution_count": 107,
   "id": "9b6fe4c3",
   "metadata": {},
   "outputs": [
    {
     "data": {
      "image/png": "[encoded data removed]",
      "text/plain": [
       "<Figure size 720x432 with 1 Axes>"
      ]
     },
     "metadata": {
      "needs_background": "light"
     },
     "output_type": "display_data"
    }
   ],
   "source": [
    "# Doğruluk değerlerini grafikleme\n",
    "accuracies = {\n",
    "    'KNN': accuracy_knn,\n",
    "    'Logistic Regression': accuracy_log,\n",
    "    'SVM': accuracy_svm,\n",
    "    'Decision Tree': accuracy_dt,\n",
    "    'Naive Bayes': accuracy_nb,\n",
    "    'Neural Network': accuracy_nn\n",
    "}\n",
    "\n",
    "models = list(accuracies.keys())  # Modellerin isimlerini liste olarak alıyoruz\n",
    "accuracy_values = list(accuracies.values())  # Doğruluk değerlerini liste olarak alıyoruz\n",
    "\n",
    "plt.figure(figsize=(10, 6))  # Grafik boyutlarını belirleme\n",
    "sns.barplot(x=models, y=accuracy_values, palette='viridis')  # Çubuk grafik oluşturma\n",
    "plt.title('Model Doğruluk Karşılaştırması')  # Grafik başlığı\n",
    "plt.xlabel('Modeller')  # X ekseni etiketi\n",
    "plt.ylabel('Doğruluk')  # Y ekseni etiketi\n",
    "plt.ylim(0, 1)  # Y ekseni aralığı\n",
    "plt.show()  # Grafiği gösterme"
   ]
  },
  {
   "cell_type": "code",
   "execution_count": 108,
   "id": "738291ca",
   "metadata": {},
   "outputs": [
    {
     "data": {
      "image/png": "[encoded data removed]",
      "text/plain": [
       "<Figure size 1800x1440 with 12 Axes>"
      ]
     },
     "metadata": {
      "needs_background": "light"
     },
     "output_type": "display_data"
    }
   ],
   "source": [
    "# Confusion matrixleri grafikleme\n",
    "\n",
    "fig, axes = plt.subplots(3, 2, figsize=(25, 20))  # Alt grafikler için 3x2'lik bir figür oluşturma\n",
    "\n",
    "# KNN Confusion Matrix\n",
    "\n",
    "sns.heatmap(cm_knn, annot=True, fmt='d', cmap='Blues', ax=axes[0, 0])\n",
    "axes[0, 0].set_title('KNN Confusion Matrix')\n",
    "axes[0, 0].set_xlabel('Tahmin')\n",
    "axes[0, 0].set_ylabel('Gerçek')\n",
    "\n",
    "# Logistic Regression Confusion Matrix\n",
    "\n",
    "sns.heatmap(cm_log, annot=True, fmt='d', cmap='Blues', ax=axes[0, 1])\n",
    "axes[0, 1].set_title('Logistic Regression Confusion Matrix')\n",
    "axes[0, 1].set_xlabel('Tahmin')\n",
    "axes[0, 1].set_ylabel('Gerçek')\n",
    "\n",
    "# SVM Confusion Matrix\n",
    "\n",
    "sns.heatmap(cm_svm, annot=True, fmt='d', cmap='Blues', ax=axes[1, 0])\n",
    "axes[1, 0].set_title('SVM Confusion Matrix')\n",
    "axes[1, 0].set_xlabel('Tahmin')\n",
    "axes[1, 0].set_ylabel('Gerçek')\n",
    "\n",
    "# Decision Tree Confusion Matrix\n",
    "\n",
    "sns.heatmap(cm_dt, annot=True, cmap='Blues', ax=axes[1, 1], fmt='d')\n",
    "axes[1, 1].set_title('Decision Tree Confusion Matrix')\n",
    "axes[1, 1].set_xlabel('Tahmin')\n",
    "axes[1, 1].set_ylabel('Gerçek')\n",
    "\n",
    "# Naive Bayes Confusion Matrix\n",
    "\n",
    "sns.heatmap(cm_nb, annot=True, cmap='Blues', ax=axes[2, 0], fmt='d')\n",
    "axes[2, 0].set_title('Naive Bayes Confusion Matrix')\n",
    "axes[2, 0].set_xlabel('Tahmin')\n",
    "axes[2, 0].set_ylabel('Gerçek')\n",
    "\n",
    "# Neural Network Confusion Matrix\n",
    "\n",
    "sns.heatmap(cm_nn, annot=True, cmap='Blues', ax=axes[2, 1], fmt='d')\n",
    "axes[2, 1].set_title('Neural Network Confusion Matrix')\n",
    "axes[2, 1].set_xlabel('Tahmin')\n",
    "axes[2, 1].set_ylabel('Gerçek')\n",
    "\n",
    "plt.tight_layout()  # Alt grafikler arasında düzgün boşluk bırakma\n",
    "plt.show()  # Grafikleri gösterme"
   ]
  },
  {
   "cell_type": "markdown",
   "id": "64f72c2f",
   "metadata": {},
   "source": [
    "    CROSS VALİDATİON\n",
    "-modelin çeşitli veri alt kümeleri üzerinde test edilmesi\n",
    "-model performansını ve genellenebilirliğini değerlendiririz\n",
    "\n",
    "mean accuracy : doğruluk oratalaması , modelin genel performansını yansıtır\n",
    "\n",
    "\n",
    "standard deviation : standart sapma, modelin farklı bölümlerdeki performans değişikliğini ölçer \n",
    "\n",
    "-- küçük  -> tutarlı , \n",
    "-- büyük -> performans veri alt kümelerine bağlı değişir"
   ]
  },
  {
   "cell_type": "code",
   "execution_count": 109,
   "id": "46ffaf1c",
   "metadata": {},
   "outputs": [],
   "source": [
    "from sklearn.model_selection import KFold, cross_val_score"
   ]
  },
  {
   "cell_type": "code",
   "execution_count": 110,
   "id": "6e6ba188",
   "metadata": {},
   "outputs": [
    {
     "name": "stdout",
     "output_type": "stream",
     "text": [
      "KNN Model Accuracy (Cross-Validation): Mean = 0.8504792610665737, Std = 0.02486093747316647\n",
      "Logistic Regression Accuracy (Cross-Validation): Mean = 0.8359358661554548, Std = 0.03700049349216373\n",
      "SVM Accuracy (Cross-Validation): Mean = 0.8558121296619031, Std = 0.019429231738802788\n",
      "Decision Tree Accuracy (Cross-Validation): Mean = 0.8015772046009062, Std = 0.04086803199535762\n",
      "Naive Bayes Accuracy (Cross-Validation): Mean = 0.7962879051934472, Std = 0.025674011901954112\n",
      "Neural Network Accuracy (Cross-Validation): Mean = 0.879644475426978, Std = 0.015766643467330674\n"
     ]
    }
   ],
   "source": [
    "\n",
    "# Cross-validation\n",
    "scaler = StandardScaler()\n",
    "X_scaled = scaler.fit_transform(X)\n",
    "\n",
    "kf = KFold(n_splits=5, shuffle=True, random_state=42)\n",
    "\n",
    "knn_model = KNeighborsClassifier(n_neighbors=5)\n",
    "knn_scores = cross_val_score(knn_model, X_scaled, y, cv=kf, scoring='accuracy')\n",
    "print(f\"KNN Model Accuracy (Cross-Validation): Mean = {np.mean(knn_scores)}, Std = {np.std(knn_scores)}\")\n",
    "\n",
    "logreg_model = LogisticRegression(max_iter=1000)\n",
    "logreg_scores = cross_val_score(logreg_model, X_scaled, y, cv=kf, scoring='accuracy')\n",
    "print(f\"Logistic Regression Accuracy (Cross-Validation): Mean = {np.mean(logreg_scores)}, Std = {np.std(logreg_scores)}\")\n",
    "\n",
    "svm_model = SVC()\n",
    "svm_scores = cross_val_score(svm_model, X_scaled, y, cv=kf, scoring='accuracy')\n",
    "print(f\"SVM Accuracy (Cross-Validation): Mean = {np.mean(svm_scores)}, Std = {np.std(svm_scores)}\")\n",
    "\n",
    "decision_tree_model = DecisionTreeClassifier()\n",
    "decision_tree_scores = cross_val_score(decision_tree_model, X_scaled, y, cv=kf, scoring='accuracy')\n",
    "print(f\"Decision Tree Accuracy (Cross-Validation): Mean = {np.mean(decision_tree_scores)}, Std = {np.std(decision_tree_scores)}\")\n",
    "\n",
    "nb_model = GaussianNB()\n",
    "nb_scores = cross_val_score(nb_model, X_scaled, y, cv=kf, scoring='accuracy')\n",
    "print(f\"Naive Bayes Accuracy (Cross-Validation): Mean = {np.mean(nb_scores)}, Std = {np.std(nb_scores)}\")\n",
    "\n",
    "nn_model = MLPClassifier(max_iter=1000)\n",
    "nn_scores = cross_val_score(nn_model, X_scaled, y, cv=kf, scoring='accuracy')\n",
    "print(f\"Neural Network Accuracy (Cross-Validation): Mean = {np.mean(nn_scores)}, Std = {np.std(nn_scores)}\")"
   ]
  },
  {
   "cell_type": "code",
   "execution_count": 37,
   "id": "9c13ac47",
   "metadata": {},
   "outputs": [
    {
     "name": "stdout",
     "output_type": "stream",
     "text": [
      "Stacking Model Accuracy: 0.9078947368421053\n",
      "Stacking Model Confusion Matrix:\n",
      "[[ 28  10]\n",
      " [  4 110]]\n",
      "\n",
      "Stacking Model Classification Report:\n",
      "              precision    recall  f1-score   support\n",
      "\n",
      "           0       0.88      0.74      0.80        38\n",
      "           1       0.92      0.96      0.94       114\n",
      "\n",
      "    accuracy                           0.91       152\n",
      "   macro avg       0.90      0.85      0.87       152\n",
      "weighted avg       0.91      0.91      0.91       152\n",
      "\n"
     ]
    },
    {
     "data": {
      "image/png": "[encoded data removed]",
      "text/plain": [
       "<Figure size 576x432 with 2 Axes>"
      ]
     },
     "metadata": {
      "needs_background": "light"
     },
     "output_type": "display_data"
    }
   ],
   "source": [
    "from sklearn.ensemble import StackingClassifier\n",
    "\n",
    "base_models = [\n",
    "    ('knn', KNeighborsClassifier(n_neighbors=5)),\n",
    "    ('logreg', LogisticRegression(max_iter=1000)),\n",
    "    ('dt', DecisionTreeClassifier())\n",
    "]\n",
    "meta_model = LogisticRegression(max_iter=1000)\n",
    "\n",
    "stacking_model = StackingClassifier(estimators=base_models, final_estimator=meta_model)\n",
    "\n",
    "stacking_model.fit(X_train_scaled, y_train)\n",
    "\n",
    "y_pred_stack = stacking_model.predict(X_test_scaled)\n",
    "\n",
    "accuracy_stack = accuracy_score(y_test, y_pred_stack)\n",
    "print(f\"Stacking Model Accuracy: {accuracy_stack}\")\n",
    "\n",
    "cm_stack = confusion_matrix(y_test, y_pred_stack)\n",
    "class_report_stack = classification_report(y_test, y_pred_stack)\n",
    "\n",
    "print(\"Stacking Model Confusion Matrix:\")\n",
    "print(cm_stack)\n",
    "print(\"\\nStacking Model Classification Report:\")\n",
    "print(class_report_stack)\n",
    "\n",
    "plt.figure(figsize=(8, 6))\n",
    "sns.heatmap(cm_stack, annot=True, fmt='d', cmap='Blues')\n",
    "plt.title('Stacking Confusion Matrix')\n",
    "plt.xlabel('Tahmin')\n",
    "plt.ylabel('Gerçek')\n",
    "plt.show()\n"
   ]
  },
  {
   "cell_type": "code",
   "execution_count": 38,
   "id": "3317e340",
   "metadata": {},
   "outputs": [
    {
     "data": {
      "image/png": "[encoded data removed]",
      "text/plain": [
       "<Figure size 432x288 with 1 Axes>"
      ]
     },
     "metadata": {
      "needs_background": "light"
     },
     "output_type": "display_data"
    }
   ],
   "source": [
    "p = data.groupby(['gender', 'class']).size().unstack()\n",
    "p.plot(kind='bar', stacked=True)\n",
    "plt.title('Cinsiyete Göre Sınıf Dağılımı')\n",
    "plt.xlabel('Cinsiyet (0: Kadın, 1: Erkek)')\n",
    "plt.ylabel('Kişi Sayısı')\n",
    "plt.legend(title='Sınıf', loc='upper left')\n",
    "plt.show()"
   ]
  },
  {
   "cell_type": "code",
   "execution_count": null,
   "id": "ea6efd70",
   "metadata": {},
   "outputs": [],
   "source": []
  },
  {
   "cell_type": "code",
   "execution_count": null,
   "id": "fa66335a",
   "metadata": {},
   "outputs": [],
   "source": []
  },
  {
   "cell_type": "code",
   "execution_count": null,
   "id": "e2e1576d",
   "metadata": {},
   "outputs": [],
   "source": [
    "\n"
   ]
  }
 ],
 "metadata": {
  "kernelspec": {
   "display_name": "Python 3 (ipykernel)",
   "language": "python",
   "name": "python3"
  },
  "language_info": {
   "codemirror_mode": {
    "name": "ipython",
    "version": 3
   },
   "file_extension": ".py",
   "mimetype": "text/x-python",
   "name": "python",
   "nbconvert_exporter": "python",
   "pygments_lexer": "ipython3",
   "version": "3.9.12"
  }
 },
 "nbformat": 4,
 "nbformat_minor": 5
}
